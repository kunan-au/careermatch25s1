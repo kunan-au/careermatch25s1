{
 "cells": [
  {
   "cell_type": "code",
   "execution_count": null,
   "metadata": {},
   "outputs": [],
   "source": [
    "import sys\n",
    "\n",
    "# A simple test function\n",
    "def main():\n",
    "    print(\"Hello, AWS Glue!\")\n",
    "    print(\"This is a test script to verify Glue job functionality.\")\n",
    "    print(f\"Number of arguments passed: {len(sys.argv)}\")\n",
    "    print(\"Arguments:\", sys.argv)\n",
    "\n",
    "if __name__ == \"__main__\":\n",
    "    main()\n"
   ]
  }
 ],
 "metadata": {
  "language_info": {
   "name": "python"
  }
 },
 "nbformat": 4,
 "nbformat_minor": 2
}
