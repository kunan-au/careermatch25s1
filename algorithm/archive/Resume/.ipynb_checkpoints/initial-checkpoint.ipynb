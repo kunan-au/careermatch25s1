{
 "cells": [
  {
   "cell_type": "code",
   "execution_count": 5,
   "id": "8b044fd8",
   "metadata": {},
   "outputs": [],
   "source": [
    "import pandas as pd\n",
    "from bs4 import BeautifulSoup\n",
    "#from pyresparser import ResumeParser"
   ]
  },
  {
   "cell_type": "code",
   "execution_count": 3,
   "id": "bf5e5f0a",
   "metadata": {
    "scrolled": true
   },
   "outputs": [
    {
     "name": "stdout",
     "output_type": "stream",
     "text": [
      "         ID                                         Resume_str  \\\n",
      "0  16852973           HR ADMINISTRATOR/MARKETING ASSOCIATE\\...   \n",
      "1  22323967           HR SPECIALIST, US HR OPERATIONS      ...   \n",
      "2  33176873           HR DIRECTOR       Summary      Over 2...   \n",
      "3  27018550           HR SPECIALIST       Summary    Dedica...   \n",
      "4  17812897           HR MANAGER         Skill Highlights  ...   \n",
      "\n",
      "                                         Resume_html Category  \n",
      "0  <div class=\"fontsize fontface vmargins hmargin...       HR  \n",
      "1  <div class=\"fontsize fontface vmargins hmargin...       HR  \n",
      "2  <div class=\"fontsize fontface vmargins hmargin...       HR  \n",
      "3  <div class=\"fontsize fontface vmargins hmargin...       HR  \n",
      "4  <div class=\"fontsize fontface vmargins hmargin...       HR  \n"
     ]
    },
    {
     "data": {
      "text/plain": [
       "0    <div class=\"fontsize fontface vmargins hmargin...\n",
       "1    <div class=\"fontsize fontface vmargins hmargin...\n",
       "2    <div class=\"fontsize fontface vmargins hmargin...\n",
       "3    <div class=\"fontsize fontface vmargins hmargin...\n",
       "4    <div class=\"fontsize fontface vmargins hmargin...\n",
       "Name: Resume_html, dtype: object"
      ]
     },
     "execution_count": 3,
     "metadata": {},
     "output_type": "execute_result"
    }
   ],
   "source": [
    "# read csv file\n",
    "csv_path = \"E:\\\\anu\\\\skill\\\\archive\\\\Resume\\\\Resume.csv\"\n",
    "df = pd.read_csv(csv_path)\n",
    " \n",
    "# 查看前几行数据\n",
    "print(df.head())\n",
    "html_col = df.iloc[:,2]\n",
    "html_col.head()"
   ]
  },
  {
   "cell_type": "code",
   "execution_count": 7,
   "id": "b5481d87",
   "metadata": {},
   "outputs": [],
   "source": [
    "html1 = html_col[0]\n",
    "soup = BeautifulSoup(html1, 'lxml')\n",
    "\n",
    "#title = soup.p['500375981FRFM1']\n",
    "#print(title)\n"
   ]
  },
  {
   "cell_type": "code",
   "execution_count": 9,
   "id": "5eea94f6",
   "metadata": {},
   "outputs": [
    {
     "data": {
      "text/plain": [
       "'<html>\\n <body>\\n  <div class=\"fontsize fontface vmargins hmargins linespacing pagesize\" id=\"document\">\\n   <div class=\"section firstsection\" id=\"SECTION_NAME500375979\" style=\"\\n      padding-top:0px;\\n    \">\\n    <div class=\"paragraph PARAGRAPH_NAME firstparagraph\" id=\"PARAGRAPH_500375979_1_326506904\" style=\"\\n      padding-top:0px;\\n    \">\\n     <div class=\"name\" itemprop=\"name\">\\n      <span class=\"field fName\" id=\"500375979FNAM1\">\\n      </span>\\n      <span>\\n      </span>\\n      <span class=\"field\" id=\"500375979LNAM1\">\\n       HR ADMINISTRATOR/MARKETING ASSOCIATE\\n\\nHR ADMINISTRATOR\\n      </span>\\n     </div>\\n    </div>\\n   </div>\\n   <div class=\"section\" id=\"SECTION_SUMM500375981\" style=\"\\n      padding-top:0px;\\n    \">\\n    <div class=\"heading bottomborder\">\\n     <div class=\"sectiontitle\" id=\"SECTNAME_SUMM500375981\">\\n      Summary\\n     </div>\\n    </div>\\n    <div class=\"paragraph firstparagraph\" id=\"PARAGRAPH_500375981_1_326506917\" style=\"\\n      padding-top:0px;\\n    \">\\n     <div class=\"field singlecolumn\" id=\"500375981FRFM1\">\\n      <p align=\"LEFT\">\\n       Dedicated Customer Service Manager with 15+ years of experience in Hospitality and Customer Service Management.\\n      </p>\\n      <p align=\"LEFT\">\\n       Respected builder and leader of customer-focused teams; strives to instill a shared, enthusiastic commitment to customer service.\\n      </p>\\n     </div>\\n    </div>\\n   </div>\\n   <div class=\"section\" id=\"SECTION_HILT500375982\" style=\"\\n      padding-top:0px;\\n    \">\\n    <div class=\"heading bottomborder\">\\n     <div class=\"sectiontitle\" id=\"SECTNAME_HILT500375982\">\\n      Highlights\\n     </div>\\n    </div>\\n    <div class=\"paragraph firstparagraph\" id=\"PARAGRAPH_500375982_1_326509244\" style=\"\\n      padding-top:0px;\\n    \">\\n     <div class=\"singlecolumn maincolumn\">\\n      <table class=\"twocol\">\\n       <tbody>\\n        <tr>\\n         <td class=\"field twocol_1\" id=\"500375982SKC11\">\\n          <p align=\"CENTER\">\\n           Focused on customer satisfaction\\n          </p>\\n          <p align=\"CENTER\">\\n           Team management\\n          </p>\\n          <p align=\"CENTER\">\\n           Marketing savvy\\n          </p>\\n          <p align=\"CENTER\">\\n           Conflict resolution techniques\\n          </p>\\n          <br/>\\n         </td>\\n         <td class=\"field twocol_2\" id=\"500375982SKC21\">\\n          <p align=\"CENTER\">\\n           Training and development\\n          </p>\\n          <p align=\"CENTER\">\\n           Skilled multi-tasker\\n          </p>\\n          <p align=\"CENTER\">\\n           Client relations specialist\\n          </p>\\n         </td>\\n        </tr>\\n       </tbody>\\n      </table>\\n     </div>\\n    </div>\\n   </div>\\n   <div class=\"section\" id=\"SECTION_ACCM500375993\" style=\"\\n      padding-top:0px;\\n    \">\\n    <div class=\"heading bottomborder\">\\n     <div class=\"sectiontitle\" id=\"SECTNAME_ACCM500375993\">\\n      Accomplishments\\n     </div>\\n    </div>\\n    <div class=\"paragraph firstparagraph\" id=\"PARAGRAPH_500375993_1_326506914\" style=\"\\n      padding-top:0px;\\n    \">\\n     <div class=\"field singlecolumn\" id=\"500375993FRFM1\">\\n      <ul>\\n       <li>\\n        Missouri DOT Supervisor Training Certification\\n       </li>\\n       <li>\\n        Certified by IHG in Customer Loyalty and Marketing by Segment\\n       </li>\\n       <li>\\n        Hilton Worldwide General Manager Training Certification\\n       </li>\\n       <li>\\n        Accomplished Trainer for cross server hospitality systems such as\\n        <b>\\n         <u>\\n          Hilton OnQ\\n         </u>\\n        </b>\\n        ,\\n        <u>\\n         Micros\\n        </u>\\n        <b>\\n         <u>\\n          Opera PMS\\n         </u>\\n        </b>\\n        <u>\\n         , Fidelio\\n        </u>\\n        <b>\\n         <u>\\n          OPERA\\n         </u>\\n        </b>\\n        <u>\\n         Reservation System (ORS)\\n        </u>\\n        ,\\n        <b>\\n         <u>\\n          Holidex\\n         </u>\\n        </b>\\n       </li>\\n       <li>\\n        Completed courses and seminars in customer service, sales strategies, inventory control, loss prevention, safety, time management, leadership and performance assessment.\\n       </li>\\n      </ul>\\n     </div>\\n    </div>\\n   </div>\\n   <div class=\"section\" id=\"SECTION_EXPR500375983\" style=\"\\n      padding-top:0px;\\n    \">\\n    <div class=\"heading bottomborder\">\\n     <div class=\"sectiontitle\" id=\"SECTNAME_EXPR500375983\">\\n      Experience\\n     </div>\\n    </div>\\n    <div class=\"paragraph firstparagraph\" id=\"PARAGRAPH_500375983_1_326506906\" itemscope=\"\" itemtype=\"https://schema.org/Organization\" style=\"\\n      padding-top:0px;\\n    \">\\n     <div class=\"singlecolumn\">\\n      <span class=\"paddedline\">\\n       <span class=\"jobtitle\" id=\"500375983JTIT1\">\\n        HR Administrator/Marketing Associate\\n\\nHR Administrator\\n       </span>\\n       <span>\\n       </span>\\n       <span class=\"datesWrapper\">\\n        <span class=\"jobdates\" format=\"%b %Y\" id=\"500375983JSTD1\">\\n         Dec 2013\\n        </span>\\n        <span>\\n         to\\n        </span>\\n        <span class=\"jobdates\" format=\"%b %Y\" id=\"500375983EDDT1\">\\n         Current\\n        </span>\\n        <br/>\\n       </span>\\n      </span>\\n      <span class=\"paddedline\" itemscope=\"\" itemtype=\"https://schema.org/postalAddress\">\\n       <span class=\"companyname\" id=\"500375983COMP1\" itemprop=\"name\">\\n        Company Name\\n       </span>\\n       <span>\\n        －\\n       </span>\\n       <span class=\"joblocation jobcity\" id=\"500375983JCIT1\" itemprop=\"addressLocality\">\\n        City\\n       </span>\\n       <span>\\n        ,\\n       </span>\\n       <span class=\"joblocation jobstate\" id=\"500375983JSTA1\" itemprop=\"addressRegion\">\\n        State\\n       </span>\\n      </span>\\n      <span class=\"jobline\" id=\"500375983JDES1\" itemprop=\"description\">\\n       <ul>\\n        <li>\\n         Helps to develop policies, directs and coordinates activities such as employment, compensation, labor relations, benefits, training, and employee services.\\n        </li>\\n        <li>\\n         Prepares employee separation notices and related documentation\\n        </li>\\n        <li>\\n         Keeps records of benefits plans participation such as insurance and pension plan, personnel transactions such as hires, promotions, transfers, performance reviews, and terminations, and employee statistics for government reporting.\\n        </li>\\n        <li>\\n         Advises management in appropriate resolution of employee relations issues.\\n        </li>\\n        <li>\\n         Administers benefits programs such as life, health, dental, insurance, pension plans, vacation, sick leave, leave of absence, and employee assistance.\\n        </li>\\n       </ul>\\n       <br/>\\n       <p align=\"LEFT\">\\n        <b>\\n         Marketing Associate\\n        </b>\\n       </p>\\n       <ul>\\n        <li>\\n         Designed and created marketing collateral for sales meetings, trade shows and company executives.\\n        </li>\\n        <li>\\n         Managed the in-house advertising program consisting of print and media collateral pieces.\\n        </li>\\n        <li>\\n         Assisted in the complete design and launch of the company\\'s website in 2 months.\\n        </li>\\n        <li>\\n         Created an official company page on Facebook to facilitate interaction with customers.\\n        </li>\\n        <li>\\n         Analyzed ratings and programming features of competitors to evaluate the effectiveness of marketing strategies.\\n        </li>\\n       </ul>\\n      </span>\\n     </div>\\n    </div>\\n    <div class=\"paragraph\" id=\"PARAGRAPH_500375983_2_326506907\" itemscope=\"\" itemtype=\"https://schema.org/Organization\" style=\"\\n      padding-top:10px;\\n    \">\\n     <div class=\"singlecolumn\">\\n      <span class=\"paddedline\">\\n       <span class=\"jobtitle\" id=\"500375983JTIT2\">\\n        Advanced Medical Claims Analyst\\n       </span>\\n       <span>\\n       </span>\\n       <span class=\"datesWrapper\">\\n        <span class=\"jobdates\" format=\"%b %Y\" id=\"500375983JSTD2\">\\n         Mar 2012\\n        </span>\\n        <span>\\n         to\\n        </span>\\n        <span class=\"jobdates\" format=\"%b %Y\" id=\"500375983EDDT2\">\\n         Dec 2013\\n        </span>\\n        <br/>\\n       </span>\\n      </span>\\n      <span class=\"paddedline\" itemscope=\"\" itemtype=\"https://schema.org/postalAddress\">\\n       <span class=\"companyname\" id=\"500375983COMP2\" itemprop=\"name\">\\n        Company Name\\n       </span>\\n       <span>\\n        －\\n       </span>\\n       <span class=\"joblocation jobcity\" id=\"500375983JCIT2\" itemprop=\"addressLocality\">\\n        City\\n       </span>\\n       <span>\\n        ,\\n       </span>\\n       <span class=\"joblocation jobstate\" id=\"500375983JSTA2\" itemprop=\"addressRegion\">\\n        State\\n       </span>\\n      </span>\\n      <span class=\"jobline\" id=\"500375983JDES2\" itemprop=\"description\">\\n       <ul>\\n        <li>\\n         Reviewed medical bills for the accuracy of the treatments, tests, and hospital stays prior to sanctioning the claims.\\n        </li>\\n        <li>\\n         Trained to interpret the codes (ICD-9, CPT) and terminology commonly used in medical billing to fully understand the paperwork that is submitted by healthcare providers.\\n        </li>\\n        <li>\\n         Required to have organizational and analytical skills as well as computer skills, knowledge of medical terminology and procedures, statistics, billing standards, data analysis and laws regarding medical billing.\\n        </li>\\n       </ul>\\n      </span>\\n     </div>\\n    </div>\\n    <div class=\"paragraph\" id=\"PARAGRAPH_500375983_3_326506908\" itemscope=\"\" itemtype=\"https://schema.org/Organization\" style=\"\\n      padding-top:15px;\\n    \">\\n     <div class=\"singlecolumn\">\\n      <span class=\"paddedline\">\\n       <span class=\"jobtitle\" id=\"500375983JTIT3\">\\n        Assistant General Manager\\n       </span>\\n       <span>\\n       </span>\\n       <span class=\"datesWrapper\">\\n        <span class=\"jobdates\" format=\"%b %Y\" id=\"500375983JSTD3\">\\n         Jun 2010\\n        </span>\\n        <span>\\n         to\\n        </span>\\n        <span class=\"jobdates\" format=\"%b %Y\" id=\"500375983EDDT3\">\\n         Dec 2010\\n        </span>\\n        <br/>\\n       </span>\\n      </span>\\n      <span class=\"paddedline\" itemscope=\"\" itemtype=\"https://schema.org/postalAddress\">\\n       <span class=\"companyname\" id=\"500375983COMP3\" itemprop=\"name\">\\n        Company Name\\n       </span>\\n       <span>\\n        －\\n       </span>\\n       <span class=\"joblocation jobcity\" id=\"500375983JCIT3\" itemprop=\"addressLocality\">\\n        City\\n       </span>\\n       <span>\\n        ,\\n       </span>\\n       <span class=\"joblocation jobstate\" id=\"500375983JSTA3\" itemprop=\"addressRegion\">\\n        State\\n       </span>\\n      </span>\\n      <span class=\"jobline\" id=\"500375983JDES3\" itemprop=\"description\">\\n       <ul>\\n        <li>\\n         Performed duties including but not limited to, budgeting and financial management, accounting, human resources, payroll and purchasing.\\n        </li>\\n        <li>\\n         Established and maintained close working relationships with all departments of the hotel to ensure maximum operation, productivity, morale and guest service.\\n        </li>\\n        <li>\\n         Handled daily operations and reported directly to the corporate office.\\n        </li>\\n        <li>\\n         Hired and trained staff on overall objectives and goals with an emphasis on high customer service.\\n        </li>\\n        <li>\\n         Marketing and Advertising, working on public relations with the media, government and local businesses and Chamber of Commerce.\\n        </li>\\n       </ul>\\n      </span>\\n     </div>\\n    </div>\\n    <div class=\"paragraph\" id=\"PARAGRAPH_500375983_4_326506910\" itemscope=\"\" itemtype=\"https://schema.org/Organization\" style=\"\\n      padding-top:5px;\\n    \">\\n     <div class=\"singlecolumn\">\\n      <span class=\"paddedline\">\\n       <span class=\"jobtitle\" id=\"500375983JTIT4\">\\n        Executive Support / Marketing Assistant\\n       </span>\\n       <span>\\n       </span>\\n       <span class=\"datesWrapper\">\\n        <span class=\"jobdates\" format=\"%b %Y\" id=\"500375983JSTD4\">\\n         Jul 2007\\n        </span>\\n        <span>\\n         to\\n        </span>\\n        <span class=\"jobdates\" format=\"%b %Y\" id=\"500375983EDDT4\">\\n         Jun 2010\\n        </span>\\n        <br/>\\n       </span>\\n      </span>\\n      <span class=\"paddedline\" itemscope=\"\" itemtype=\"https://schema.org/postalAddress\">\\n       <span class=\"companyname\" id=\"500375983COMP4\" itemprop=\"name\">\\n        Company Name\\n       </span>\\n       <span>\\n        －\\n       </span>\\n       <span class=\"joblocation jobcity\" id=\"500375983JCIT4\" itemprop=\"addressLocality\">\\n        City\\n       </span>\\n       <span>\\n        ,\\n       </span>\\n       <span class=\"joblocation jobstate\" id=\"500375983JSTA4\" itemprop=\"addressRegion\">\\n        State\\n       </span>\\n      </span>\\n      <span class=\"jobline\" id=\"500375983JDES4\" itemprop=\"description\">\\n       <ul>\\n        <li>\\n         Provided assistance to various department heads - Executive, Marketing, Customer Service, Human Resources.\\n        </li>\\n        <li>\\n         Managed front-end operations to ensure friendly and efficient transactions.\\n        </li>\\n        <li>\\n         Ensured the swift resolution of customer issues to preserve customer loyalty while complying with company policies.\\n        </li>\\n        <li>\\n         Exemplified the second-to-none customer service delivery in all interactions with customers and potential clients.\\n        </li>\\n       </ul>\\n      </span>\\n     </div>\\n    </div>\\n    <div class=\"paragraph\" id=\"PARAGRAPH_500375983_5_326506911\" itemscope=\"\" itemtype=\"https://schema.org/Organization\" style=\"\\n      padding-top:10px;\\n    \">\\n     <div class=\"singlecolumn\">\\n      <span class=\"paddedline\">\\n       <span class=\"jobtitle\" id=\"500375983JTIT5\">\\n        Reservation &amp; Front Office Manager\\n       </span>\\n       <span>\\n       </span>\\n       <span class=\"datesWrapper\">\\n        <span class=\"jobdates\" format=\"%b %Y\" id=\"500375983JSTD5\">\\n         Jun 2004\\n        </span>\\n        <span>\\n         to\\n        </span>\\n        <span class=\"jobdates\" format=\"%b %Y\" id=\"500375983EDDT5\">\\n         Jul 2007\\n        </span>\\n        <br/>\\n       </span>\\n      </span>\\n      <span class=\"paddedline\" itemscope=\"\" itemtype=\"https://schema.org/postalAddress\">\\n       <span class=\"companyname\" id=\"500375983COMP5\" itemprop=\"name\">\\n        Company Name\\n       </span>\\n       <span>\\n        －\\n       </span>\\n       <span class=\"joblocation jobcity\" id=\"500375983JCIT5\" itemprop=\"addressLocality\">\\n        City\\n       </span>\\n       <span>\\n        ,\\n       </span>\\n       <span class=\"joblocation jobstate\" id=\"500375983JSTA5\" itemprop=\"addressRegion\">\\n        State\\n       </span>\\n      </span>\\n      <span class=\"jobline\" id=\"500375983JDES5\" itemprop=\"description\">\\n      </span>\\n     </div>\\n    </div>\\n    <div class=\"paragraph\" id=\"PARAGRAPH_500375983_6_326506912\" itemscope=\"\" itemtype=\"https://schema.org/Organization\" style=\"\\n      padding-top:10px;\\n    \">\\n     <div class=\"singlecolumn\">\\n      <span class=\"paddedline\">\\n       <span class=\"jobtitle\" id=\"500375983JTIT6\">\\n        Owner/ Partner\\n       </span>\\n       <span>\\n       </span>\\n       <span class=\"datesWrapper\">\\n        <span class=\"jobdates\" format=\"%b %Y\" id=\"500375983JSTD6\">\\n         Dec 2001\\n        </span>\\n        <span>\\n         to\\n        </span>\\n        <span class=\"jobdates\" format=\"%b %Y\" id=\"500375983EDDT6\">\\n         May 2004\\n        </span>\\n        <br/>\\n       </span>\\n      </span>\\n      <span class=\"paddedline\" itemscope=\"\" itemtype=\"https://schema.org/postalAddress\">\\n       <span class=\"companyname\" id=\"500375983COMP6\" itemprop=\"name\">\\n        Company Name\\n       </span>\\n       <span>\\n        －\\n       </span>\\n       <span class=\"joblocation jobcity\" id=\"500375983JCIT6\" itemprop=\"addressLocality\">\\n        City\\n       </span>\\n       <span>\\n        ,\\n       </span>\\n       <span class=\"joblocation jobstate\" id=\"500375983JSTA6\" itemprop=\"addressRegion\">\\n        State\\n       </span>\\n      </span>\\n      <span class=\"jobline\" id=\"500375983JDES6\" itemprop=\"description\">\\n      </span>\\n     </div>\\n    </div>\\n    <div class=\"paragraph\" id=\"PARAGRAPH_500375983_7_326506913\" itemscope=\"\" itemtype=\"https://schema.org/Organization\" style=\"\\n      padding-top:10px;\\n    \">\\n     <div class=\"singlecolumn\">\\n      <span class=\"paddedline\">\\n       <span class=\"jobtitle\" id=\"500375983JTIT7\">\\n        Price Integrity Coordinator\\n       </span>\\n       <span>\\n       </span>\\n       <span class=\"datesWrapper\">\\n        <span class=\"jobdates\" format=\"%b %Y\" id=\"500375983JSTD7\">\\n         Aug 1999\\n        </span>\\n        <span>\\n         to\\n        </span>\\n        <span class=\"jobdates\" format=\"%b %Y\" id=\"500375983EDDT7\">\\n         Dec 2001\\n        </span>\\n        <br/>\\n       </span>\\n      </span>\\n      <span class=\"paddedline\" itemscope=\"\" itemtype=\"https://schema.org/postalAddress\">\\n       <span class=\"companyname\" id=\"500375983COMP7\" itemprop=\"name\">\\n        Company Name\\n       </span>\\n       <span>\\n        －\\n       </span>\\n       <span class=\"joblocation jobcity\" id=\"500375983JCIT7\" itemprop=\"addressLocality\">\\n        City\\n       </span>\\n       <span>\\n        ,\\n       </span>\\n       <span class=\"joblocation jobstate\" id=\"500375983JSTA7\" itemprop=\"addressRegion\">\\n        State\\n       </span>\\n      </span>\\n      <span class=\"jobline\" id=\"500375983JDES7\" itemprop=\"description\">\\n      </span>\\n     </div>\\n    </div>\\n   </div>\\n   <div class=\"section\" id=\"SECTION_EDUC500400498\" style=\"\\n      padding-top:0px;\\n    \">\\n    <div class=\"heading bottomborder\">\\n     <div class=\"sectiontitle\" id=\"SECTNAME_EDUC500400498\">\\n      Education\\n     </div>\\n    </div>\\n    <div class=\"paragraph firstparagraph\" id=\"PARAGRAPH_500400498_1_326523310\" itemscope=\"\" itemtype=\"https://schema.org/EducationalOrganization\" style=\"\\n      padding-top:0px;\\n    \">\\n     <div class=\"singlecolumn\">\\n      <span class=\"paddedline\" itemprop=\"description\">\\n       <span class=\"degree\" id=\"500400498DGRE1\" itemprop=\"name\">\\n        N/A\\n       </span>\\n       <span>\\n        ,\\n       </span>\\n       <span class=\"programline\" id=\"500400498STUY1\">\\n        Business Administration\\n       </span>\\n       <span class=\"datesWrapper\">\\n        <span class=\"jobdates\" id=\"500400498GRYR1\">\\n         1999\\n        </span>\\n       </span>\\n      </span>\\n      <span class=\"paddedline\">\\n       <span class=\"companyname companyname_educ\" id=\"500400498SCHO1\" itemprop=\"name\">\\n        Jefferson College\\n       </span>\\n       <span>\\n        －\\n       </span>\\n       <span class=\"joblocation jobcity\" id=\"500400498SCIT1\">\\n        City\\n       </span>\\n       <span>\\n        ,\\n       </span>\\n       <span class=\"joblocation jobstate\" id=\"500400498SSTA1\">\\n        State\\n       </span>\\n       <span class=\"joblocation jobstate\" id=\"500400498SCNT1\">\\n       </span>\\n      </span>\\n      <span class=\"field\" id=\"500400498FRFM1\">\\n       <ul>\\n        <li>\\n         Business Administration\\n        </li>\\n        <li>\\n         Marketing / Advertising\\n        </li>\\n       </ul>\\n      </span>\\n     </div>\\n    </div>\\n    <div class=\"paragraph\" id=\"PARAGRAPH_500400498_2_326522471\" itemscope=\"\" itemtype=\"https://schema.org/EducationalOrganization\" style=\"\\n      padding-top:0px;\\n    \">\\n     <div class=\"singlecolumn\">\\n      <span class=\"paddedline\" itemprop=\"description\">\\n       <span class=\"degree\" id=\"500400498DGRE2\" itemprop=\"name\">\\n        High School Diploma\\n       </span>\\n       <span>\\n        ,\\n       </span>\\n       <span class=\"programline\" id=\"500400498STUY2\">\\n        College Prep. studies\\n       </span>\\n       <span class=\"datesWrapper\">\\n        <span class=\"jobdates\" id=\"500400498GRYR2\">\\n         1998\\n        </span>\\n       </span>\\n      </span>\\n      <span class=\"paddedline\">\\n       <span class=\"companyname companyname_educ\" id=\"500400498SCHO2\" itemprop=\"name\">\\n        Sainte Genevieve Senior High\\n       </span>\\n       <span>\\n        －\\n       </span>\\n       <span class=\"joblocation jobcity\" id=\"500400498SCIT2\">\\n        City\\n       </span>\\n       <span>\\n        ,\\n       </span>\\n       <span class=\"joblocation jobstate\" id=\"500400498SSTA2\">\\n        State\\n       </span>\\n       <span class=\"joblocation jobstate\" id=\"500400498SCNT2\">\\n       </span>\\n      </span>\\n      <span class=\"field\" id=\"500400498FRFM2\">\\n       <ul>\\n        <li>\\n         Awarded American Shrubel Leadership Scholarship to Jefferson College\\n        </li>\\n       </ul>\\n      </span>\\n     </div>\\n    </div>\\n   </div>\\n   <div class=\"section\" id=\"SECTION_SKLL500375994\" style=\"\\n      padding-top:0px;\\n    \">\\n    <div class=\"heading bottomborder\">\\n     <div class=\"sectiontitle\" id=\"SECTNAME_SKLL500375994\">\\n      Skills\\n     </div>\\n    </div>\\n    <div class=\"paragraph firstparagraph\" id=\"PARAGRAPH_500375994_1_326506918\" style=\"\\n      padding-top:0px;\\n    \">\\n     <div class=\"field singlecolumn\" id=\"500375994FRFM1\">\\n      <p align=\"LEFT\">\\n       Accounting, ads, advertising, analytical skills, benefits, billing, budgeting, clients, Customer Service, data analysis, delivery, documentation, employee relations, financial management, government relations, Human Resources, insurance, labor relations, layout, Marketing, marketing collateral, medical billing, medical terminology, office, organizational, payroll, performance reviews, personnel, policies, posters, presentations, public relations, purchasing, reporting, statistics, website.\\n      </p>\\n     </div>\\n    </div>\\n   </div>\\n  </div>\\n </body>\\n</html>'"
      ]
     },
     "execution_count": 9,
     "metadata": {},
     "output_type": "execute_result"
    }
   ],
   "source": [
    "#获取简历结构\n",
    "soup_file = soup.prettify()\n",
    "#soup_file"
   ]
  },
  {
   "cell_type": "code",
   "execution_count": 14,
   "id": "2e846e19",
   "metadata": {},
   "outputs": [
    {
     "name": "stdout",
     "output_type": "stream",
     "text": [
      "\n",
      "      Skills\n",
      "     </div>\n",
      "    </div>\n",
      "    <div class=\"paragraph firstparagraph\" id=\"PARAGRAPH_500375994_1_326506918\" style=\"\n",
      "      padding-top:0px;\n",
      "    \">\n",
      "     <div class=\"field singlecolumn\" id=\"500375994FRFM1\">\n",
      "      <p align=\"LEFT\">\n",
      "       Accounting, ads, advertising, analytical skills, benefits, billing, budgeting, clients, Customer Service, data analysis, delivery, documentation, employee relations, financial management, government relations, Human Resources, insurance, labor relations, layout, Marketing, marketing collateral, medical billing, medical terminology, office, organizational, payroll, performance reviews, personnel, policies, posters, presentations, public relations, purchasing, reporting, statistics, website.\n",
      "      </p>\n",
      "     </div>\n",
      "    </div>\n",
      "   </div>\n",
      "  </div>\n",
      " </body>\n",
      "</html>\n"
     ]
    }
   ],
   "source": [
    "# 将简历分段归纳\n",
    "import re\n",
    "\n",
    "def split_string_by_id(string):\n",
    "  \"\"\"\n",
    "  在字符串中，寻找以id=\"SECTNAME_开头的字符，并以这个词为切割，将字符串分为多部份\n",
    "\n",
    "  Args:\n",
    "    string: 要切割的字符串\n",
    "\n",
    "  Returns:\n",
    "    一个包含切割后的字符串列表\n",
    "  \"\"\"\n",
    "\n",
    "  # 寻找以id=\"SECTNAME_开头的字符串\n",
    "  pattern = r'id=\"SECTNAME_[^\"]+\"'\n",
    "  matches = re.findall(pattern, string)\n",
    "\n",
    "  # 使用找到的字符串分割原始字符串\n",
    "  parts = [string]\n",
    "  for match in matches:\n",
    "    parts = [part for sub_part in parts for part in sub_part.split(match, 1)]\n",
    "\n",
    "  return parts\n",
    "\n",
    "\n",
    "string = soup_file\n",
    "\n",
    "parts = split_string_by_id(string)\n",
    "print(parts[-1][1:]) # 第一个[-1]指最后一个段落，最后需要对这部分进行循环，遍历每个段落，第二个[1:]不需要改变，仅为去除第一个字符“<”"
   ]
  },
  {
   "cell_type": "code",
   "execution_count": 13,
   "id": "d0ac6af1",
   "metadata": {},
   "outputs": [
    {
     "name": "stdout",
     "output_type": "stream",
     "text": [
      ">\n",
      "      Education\n",
      "     </div>\n",
      "    </div>\n",
      "    <div class=\"paragraph firstparagraph\" id=\"PARAGRAPH_500400498_1_326523310\" itemscope=\"\" itemtype=\"https://schema.org/EducationalOrganization\" style=\"\n",
      "      padding-top:0px;\n",
      "    \">\n",
      "     <div class=\"singlecolumn\">\n",
      "      <span class=\"paddedline\" itemprop=\"description\">\n",
      "       <span class=\"degree\" id=\"500400498DGRE1\" itemprop=\"name\">\n",
      "        N/A\n",
      "       </span>\n",
      "       <span>\n",
      "        ,\n",
      "       </span>\n",
      "       <span class=\"programline\" id=\"500400498STUY1\">\n",
      "        Business Administration\n",
      "       </span>\n",
      "       <span class=\"datesWrapper\">\n",
      "        <span class=\"jobdates\" id=\"500400498GRYR1\">\n",
      "         1999\n",
      "        </span>\n",
      "       </span>\n",
      "      </span>\n",
      "      <span class=\"paddedline\">\n",
      "       <span class=\"companyname companyname_educ\" id=\"500400498SCHO1\" itemprop=\"name\">\n",
      "        Jefferson College\n",
      "       </span>\n",
      "       <span>\n",
      "        －\n",
      "       </span>\n",
      "       <span class=\"joblocation jobcity\" id=\"500400498SCIT1\">\n",
      "        City\n",
      "       </span>\n",
      "       <span>\n",
      "        ,\n",
      "       </span>\n",
      "       <span class=\"joblocation jobstate\" id=\"500400498SSTA1\">\n",
      "        State\n",
      "       </span>\n",
      "       <span class=\"joblocation jobstate\" id=\"500400498SCNT1\">\n",
      "       </span>\n",
      "      </span>\n",
      "      <span class=\"field\" id=\"500400498FRFM1\">\n",
      "       <ul>\n",
      "        <li>\n",
      "         Business Administration\n",
      "        </li>\n",
      "        <li>\n",
      "         Marketing / Advertising\n",
      "        </li>\n",
      "       </ul>\n",
      "      </span>\n",
      "     </div>\n",
      "    </div>\n",
      "    <div class=\"paragraph\" id=\"PARAGRAPH_500400498_2_326522471\" itemscope=\"\" itemtype=\"https://schema.org/EducationalOrganization\" style=\"\n",
      "      padding-top:0px;\n",
      "    \">\n",
      "     <div class=\"singlecolumn\">\n",
      "      <span class=\"paddedline\" itemprop=\"description\">\n",
      "       <span class=\"degree\" id=\"500400498DGRE2\" itemprop=\"name\">\n",
      "        High School Diploma\n",
      "       </span>\n",
      "       <span>\n",
      "        ,\n",
      "       </span>\n",
      "       <span class=\"programline\" id=\"500400498STUY2\">\n",
      "        College Prep. studies\n",
      "       </span>\n",
      "       <span class=\"datesWrapper\">\n",
      "        <span class=\"jobdates\" id=\"500400498GRYR2\">\n",
      "         1998\n",
      "        </span>\n",
      "       </span>\n",
      "      </span>\n",
      "      <span class=\"paddedline\">\n",
      "       <span class=\"companyname companyname_educ\" id=\"500400498SCHO2\" itemprop=\"name\">\n",
      "        Sainte Genevieve Senior High\n",
      "       </span>\n",
      "       <span>\n",
      "        －\n",
      "       </span>\n",
      "       <span class=\"joblocation jobcity\" id=\"500400498SCIT2\">\n",
      "        City\n",
      "       </span>\n",
      "       <span>\n",
      "        ,\n",
      "       </span>\n",
      "       <span class=\"joblocation jobstate\" id=\"500400498SSTA2\">\n",
      "        State\n",
      "       </span>\n",
      "       <span class=\"joblocation jobstate\" id=\"500400498SCNT2\">\n",
      "       </span>\n",
      "      </span>\n",
      "      <span class=\"field\" id=\"500400498FRFM2\">\n",
      "       <ul>\n",
      "        <li>\n",
      "         Awarded American Shrubel Leadership Scholarship to Jefferson College\n",
      "        </li>\n",
      "       </ul>\n",
      "      </span>\n",
      "     </div>\n",
      "    </div>\n",
      "   </div>\n",
      "   <div class=\"section\" id=\"SECTION_SKLL500375994\" style=\"\n",
      "      padding-top:0px;\n",
      "    \">\n",
      "    <div class=\"heading bottomborder\">\n",
      "     <div class=\"sectiontitle\" \n"
     ]
    }
   ],
   "source": [
    "print(parts[-2])"
   ]
  },
  {
   "cell_type": "code",
   "execution_count": 15,
   "id": "52012e62",
   "metadata": {},
   "outputs": [
    {
     "name": "stdout",
     "output_type": "stream",
     "text": [
      "第一个非空格单词为：Skills\n",
      "第一个非空格单词为：Education\n",
      "第一个非空格单词为：Experience\n"
     ]
    }
   ],
   "source": [
    "#获取当前标题 用来后续判断是否是所需段落\n",
    "def find_first_word(text):\n",
    "  \"\"\"\n",
    "  寻找字符串中的第一个非空格单词。\n",
    "\n",
    "  Args:\n",
    "      text: 要搜索的字符串。\n",
    "\n",
    "  Returns:\n",
    "      第一个非空格单词，如果字符串为空或只有空格，则返回 None。\n",
    "  \"\"\"\n",
    "  words = text.split()\n",
    "  if words:\n",
    "    return words[0]\n",
    "  else:\n",
    "    return None\n",
    "\n",
    "# 标题 \n",
    "text1 = parts[-1][1:]    # 遍历时只需要改变[-1]这部分，可以遍历从0到最后\n",
    "text2 = parts[-2][1:]\n",
    "text3 = parts[-3][1:]\n",
    "print(f\"第一个非空格单词为：{find_first_word(text1)}\")\n",
    "print(f\"第一个非空格单词为：{find_first_word(text2)}\")\n",
    "print(f\"第一个非空格单词为：{find_first_word(text3)}\")\n"
   ]
  },
  {
   "cell_type": "code",
   "execution_count": 22,
   "id": "356732c0",
   "metadata": {},
   "outputs": [
    {
     "name": "stdout",
     "output_type": "stream",
     "text": [
      "True\n",
      "False\n",
      "False\n"
     ]
    }
   ],
   "source": [
    "# 判断是否为skill，  后续可能添加其他部分比如edu等等，只有判断为true的部分会进入下一个阶段\n",
    "def contains_skill_or_highlight(text):\n",
    "  \"\"\"\n",
    "  不区分大小写，查询字符串是否包含 skill 或者highlight\n",
    "\n",
    "  Args:\n",
    "    text: 要查询的字符串\n",
    "\n",
    "  Returns:\n",
    "    如果字符串包含 \"skill\" 或 \"highlight\"，返回 True，否则返回 False\n",
    "  \"\"\"\n",
    "  return \"skill\" in text.lower() or \"highlight\" in text.lower()\n",
    "\n",
    "# 示例用法\n",
    "text1 = parts[-1][1:]\n",
    "text2 = parts[-2][1:]\n",
    "text3 = parts[-3][1:]\n",
    "\n",
    "print(contains_skill_or_highlight(find_first_word(text1)))  \n",
    "print(contains_skill_or_highlight(find_first_word(text2)))  \n",
    "print(contains_skill_or_highlight(find_first_word(text3)))  "
   ]
  },
  {
   "cell_type": "code",
   "execution_count": 18,
   "id": "8df42b34",
   "metadata": {},
   "outputs": [
    {
     "name": "stdout",
     "output_type": "stream",
     "text": [
      "</div> </div> <div class=\"paragraph firstparagraph\" id=\"PARAGRAPH_500375994_1_326506918\" style=\" padding-top:0px; \"> <div class=\"field singlecolumn\" id=\"500375994FRFM1\"> <p align=\"LEFT\"> Accounting, ads, advertising, analytical skills, benefits, billing, budgeting, clients, Customer Service, data analysis, delivery, documentation, employee relations, financial management, government relations, Human Resources, insurance, labor relations, layout, Marketing, marketing collateral, medical billing, medical terminology, office, organizational, payroll, performance reviews, personnel, policies, posters, presentations, public relations, purchasing, reporting, statistics, website. </p> </div> </div> </div> </div> </body> </html>\n"
     ]
    }
   ],
   "source": [
    "#生成去除标题后的新段落\n",
    "def remove_first_non_space_word(text):\n",
    "  \"\"\"\n",
    "  去除字符串的第一个非空格单词\n",
    "\n",
    "  Args:\n",
    "      text: 要处理的字符串\n",
    "\n",
    "  Returns:\n",
    "      去除第一个非空格单词后的字符串\n",
    "  \"\"\"\n",
    "  words = text.split()\n",
    "  if words:\n",
    "    return ' '.join(words[1:])\n",
    "  else:\n",
    "    return ''\n",
    "\n",
    "# 生成新段咯\n",
    "text = parts[-1][1:]\n",
    "new_para = remove_first_non_space_word(text)\n",
    "print(new_para) "
   ]
  },
  {
   "cell_type": "code",
   "execution_count": 44,
   "id": "2840158f",
   "metadata": {},
   "outputs": [
    {
     "name": "stdout",
     "output_type": "stream",
     "text": [
      "     Accounting, ads, advertising, analytical skills, benefits, billing, budgeting, clients, Customer Service, data analysis, delivery, documentation, employee relations, financial management, government relations, Human Resources, insurance, labor relations, layout, Marketing, marketing collateral, medical billing, medical terminology, office, organizational, payroll, performance reviews, personnel, policies, posters, presentations, public relations, purchasing, reporting, statistics, website.       \n",
      "n\n"
     ]
    }
   ],
   "source": [
    "# 获取段落内容\n",
    "def remove_content_after_lt(text):\n",
    "  \"\"\"\n",
    "  遍历字符串，每当发现<时将后续部分删除，直到发现>时停止并删除>\n",
    "\n",
    "  Args:\n",
    "    text: 要处理的字符串\n",
    "\n",
    "  Returns:\n",
    "    处理后的字符串\n",
    "  \"\"\"\n",
    "  result = []\n",
    "  in_tag = False\n",
    "  for char in text:\n",
    "    if char == '<':\n",
    "      in_tag = True\n",
    "    elif char == '>' and in_tag:\n",
    "      in_tag = False\n",
    "    elif not in_tag:\n",
    "      result.append(char)\n",
    "  \n",
    "  return ''.join(result)   \n",
    "\n",
    "\n",
    "# \n",
    "text = new_para\n",
    "result = remove_content_after_lt(text)\n",
    "print(result)\n",
    "print(result[10])"
   ]
  },
  {
   "cell_type": "code",
   "execution_count": 56,
   "id": "884276bd",
   "metadata": {},
   "outputs": [
    {
     "name": "stdout",
     "output_type": "stream",
     "text": [
      "['Accounting', 'ads', 'advertising', 'analytical skills', 'benefits', 'billing', 'budgeting', 'clients', 'Customer Service', 'data analysis', 'delivery', 'documentation', 'employee relations', 'financial management', 'government relations', 'Human Resources', 'insurance', 'labor relations', 'layout', 'Marketing', 'marketing collateral', 'medical billing', 'medical terminology', 'office', 'organizational', 'payroll', 'performance reviews', 'personnel', 'policies', 'posters', 'presentations', 'public relations', 'purchasing', 'reporting', 'statistics', 'website.']\n",
      "36\n"
     ]
    }
   ],
   "source": [
    "#将上面的list转为字符串\n",
    "def split_string_by_comma_and_strip(text):\n",
    "  \"\"\"\n",
    "  将字符串以逗号分割形成新的列表，并去除每个单词两端的空格\n",
    "\n",
    "  Args:\n",
    "    text: 要处理的字符串\n",
    "\n",
    "  Returns:\n",
    "    分割后的列表\n",
    "  \"\"\"\n",
    "  return [word.strip() for word in text.split(',')]\n",
    "\n",
    "#\n",
    "text =result\n",
    "result1 = split_string_by_comma_and_strip(text)\n",
    "print(result1)  \n",
    "print(len(result1))"
   ]
  },
  {
   "cell_type": "code",
   "execution_count": 57,
   "id": "59397a22",
   "metadata": {},
   "outputs": [
    {
     "name": "stdout",
     "output_type": "stream",
     "text": [
      "['documentation', 'layout', 'policies', 'presentations', 'customer service', 'medical terminology', 'statistics', 'marketing collateral', 'medical billing', 'posters', 'billing', 'insurance', 'reporting', 'organizational', 'accounting', 'purchasing', 'office', 'budgeting', 'data analysis', 'delivery', 'government relations', 'public relations', 'advertising', 'performance reviews', 'benefits', 'labor relations', 'clients', 'ads', 'payroll', 'financial management', 'personnel', 'marketing', 'human resources', 'employee relations', 'analytical skills', 'website.']\n",
      "36\n"
     ]
    }
   ],
   "source": [
    "#获取后将重复的单词去除，后续需要补充 使用nltk包将词都变成相同词根然后去重\n",
    "def remove_duplicate_words_case_insensitive(words):\n",
    "  \"\"\"\n",
    "  不区分大小写，将列表中重复单词去除，保持唯一性\n",
    "\n",
    "  Args:\n",
    "    words: 要处理的单词列表\n",
    "\n",
    "  Returns:\n",
    "    处理后的单词列表，其中重复的单词被删除，不区分大小写\n",
    "  \"\"\"\n",
    "  unique_words = set(word.lower() for word in words)\n",
    "  return list(unique_words)\n",
    "\n",
    "#\n",
    "words =result1\n",
    "unique_words = remove_duplicate_words_case_insensitive(words)\n",
    "print(unique_words)  \n",
    "print(len(unique_words))"
   ]
  },
  {
   "cell_type": "code",
   "execution_count": null,
   "id": "61a71e9b",
   "metadata": {},
   "outputs": [],
   "source": [
    "1.整理ASC文件\n",
    "2.将数据集中职位与ASC中职位匹配\n",
    "3.提取数据集中的skills\n",
    "4.尽可能根据ASC文件对提取的skills进行分类\n",
    "5.产出：关联文件：简历职业名-官方职位名/职位对应编码- 技能- 技能分类-技能权重等"
   ]
  },
  {
   "cell_type": "code",
   "execution_count": null,
   "id": "c6752f9e",
   "metadata": {},
   "outputs": [],
   "source": []
  }
 ],
 "metadata": {
  "kernelspec": {
   "display_name": "Python 3 (ipykernel)",
   "language": "python",
   "name": "python3"
  },
  "language_info": {
   "codemirror_mode": {
    "name": "ipython",
    "version": 3
   },
   "file_extension": ".py",
   "mimetype": "text/x-python",
   "name": "python",
   "nbconvert_exporter": "python",
   "pygments_lexer": "ipython3",
   "version": "3.9.7"
  }
 },
 "nbformat": 4,
 "nbformat_minor": 5
}
